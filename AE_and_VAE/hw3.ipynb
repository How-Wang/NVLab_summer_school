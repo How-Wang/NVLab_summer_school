{
 "cells": [
  {
   "cell_type": "markdown",
   "metadata": {},
   "source": [
    "# VAE and AE"
   ]
  },
  {
   "cell_type": "code",
   "execution_count": 1,
   "metadata": {},
   "outputs": [],
   "source": [
    "import numpy as np\n",
    "import torch\n",
    "from torch import nn\n",
    "from torch.utils.data import Dataset, DataLoader"
   ]
  },
  {
   "cell_type": "markdown",
   "metadata": {},
   "source": [
    "## 1. Load data, create dataset and dataloader"
   ]
  },
  {
   "cell_type": "code",
   "execution_count": 2,
   "metadata": {},
   "outputs": [],
   "source": [
    "eye_data = np.load('eye/data.npy') # (1476, 50, 50, 3)\n",
    "eye_data = eye_data.transpose(0, 3, 1, 2) # (1476, 3, 50, 50)\n",
    "eye_data = torch.Tensor(eye_data)\n",
    "\n",
    "eye_label = np.load('eye/label.npy') # (1476, 1)\n",
    "eye_label = torch.Tensor(eye_label)\n"
   ]
  },
  {
   "cell_type": "code",
   "execution_count": 3,
   "metadata": {},
   "outputs": [
    {
     "name": "stdout",
     "output_type": "stream",
     "text": [
      "<class 'torch.Tensor'>\n"
     ]
    }
   ],
   "source": [
    "print(type(eye_data))"
   ]
  },
  {
   "cell_type": "code",
   "execution_count": 4,
   "metadata": {},
   "outputs": [],
   "source": [
    "BATCH = 18  "
   ]
  },
  {
   "cell_type": "code",
   "execution_count": 5,
   "metadata": {},
   "outputs": [],
   "source": [
    "class EyeDataset(Dataset):\n",
    "    def __init__(self, data, label, transform=None):\n",
    "        print(\"data shape: \", data.shape)\n",
    "        print()\n",
    "        self.data = data\n",
    "        self.label = label\n",
    "        self.transform = transform\n",
    "    \n",
    "    def __len__(self):\n",
    "        return len(self.data)\n",
    "    \n",
    "    def __getitem__(self, idx):\n",
    "        data = self.data[idx]\n",
    "        label = self.label[idx]\n",
    "        if self.transform:\n",
    "            data = self.transform(data)\n",
    "        \n",
    "        return data, label"
   ]
  },
  {
   "cell_type": "code",
   "execution_count": 6,
   "metadata": {},
   "outputs": [
    {
     "name": "stdout",
     "output_type": "stream",
     "text": [
      "data shape:  torch.Size([1476, 3, 50, 50])\n",
      "\n",
      "<class 'torch.Tensor'>\n",
      "<class 'torch.Tensor'>\n",
      "torch.Size([18, 3, 50, 50])\n",
      "torch.Size([18, 1])\n"
     ]
    }
   ],
   "source": [
    "eye_dataset = EyeDataset(data=eye_data, label=eye_label)\n",
    "\n",
    "eye_dataloader = DataLoader(eye_dataset, batch_size=BATCH, shuffle=True)\n",
    "for batch, label in eye_dataloader:\n",
    "    print(type(batch))\n",
    "    print(type(label))\n",
    "    print(batch.shape)\n",
    "    print(label.shape)\n",
    "    # print(batch)\n",
    "    break"
   ]
  },
  {
   "cell_type": "markdown",
   "metadata": {},
   "source": [
    "## 2. Model construct"
   ]
  },
  {
   "cell_type": "code",
   "execution_count": 7,
   "metadata": {},
   "outputs": [],
   "source": [
    "EPOCHS = 100\n",
    "LEARNING_RATE = 0.001"
   ]
  },
  {
   "cell_type": "code",
   "execution_count": 8,
   "metadata": {},
   "outputs": [],
   "source": [
    "# Define Autoencoder architecture\n",
    "class Autoencoder(nn.Module):\n",
    "    def __init__(self):\n",
    "        super(Autoencoder, self).__init__()\n",
    "        self.encoder = nn.Sequential(\n",
    "            nn.Conv2d(in_channels=3, out_channels=16, kernel_size=3, stride=2, padding=1), # output size is (N, 16, 25, 25)\n",
    "            nn.ReLU(),\n",
    "            nn.Conv2d(16, 32, 3, 2, 1), # output size is (N, 32, 13, 13)\n",
    "            nn.ReLU(),\n",
    "            nn.Conv2d(32, 64, 3, 2, 1), # output size is (N, 64, 7, 7)\n",
    "            nn.ReLU(),\n",
    "            \n",
    "            nn.Flatten(),  # Flatten the output of the convolutional layers\n",
    "            nn.Linear(64 * 7 * 7, 256),  # Add a fully connected layer\n",
    "            nn.ReLU()\n",
    "        )\n",
    "        \n",
    "        self.decoder = nn.Sequential(\n",
    "            nn.Linear(256, 64 * 7 * 7),  # FC layer to map hidden vector to initial shape\n",
    "            nn.ReLU(),\n",
    "            nn.Unflatten(1, (64, 7, 7)),  # Unflatten to 4D tensor\n",
    "            \n",
    "            nn.ConvTranspose2d(64, 32, 3, 2, 1), # output size is (N, 32, 13, 13)\n",
    "            nn.ReLU(),\n",
    "            nn.ConvTranspose2d(32, 16, 3, 2, 1), # output size is (N, 16, 25, 25)\n",
    "            nn.ReLU(),\n",
    "            nn.ConvTranspose2d(16, 3, 3, 2, 1, output_padding=1), # output size is (N, 3, 50, 50)\n",
    "            nn.Sigmoid()\n",
    "        )\n",
    "\n",
    "    def forward(self, x):\n",
    "        encoded = self.encoder(x)\n",
    "        decoded = self.decoder(encoded)\n",
    "        return decoded\n",
    "\n",
    "# Instantiate the Autoencoder\n",
    "autoencoder = Autoencoder()\n",
    "\n",
    "# Define loss function and optimizer\n",
    "criterion = nn.MSELoss()\n",
    "optimizer = torch.optim.Adam(autoencoder.parameters(), lr=LEARNING_RATE)"
   ]
  },
  {
   "cell_type": "code",
   "execution_count": null,
   "metadata": {},
   "outputs": [],
   "source": []
  },
  {
   "cell_type": "markdown",
   "metadata": {},
   "source": [
    "## 3. Train model"
   ]
  },
  {
   "cell_type": "code",
   "execution_count": 9,
   "metadata": {},
   "outputs": [
    {
     "name": "stdout",
     "output_type": "stream",
     "text": [
      "Epoch [1/100], Loss: 0.0313\n",
      "Epoch [2/100], Loss: 0.0179\n",
      "Epoch [3/100], Loss: 0.0138\n",
      "Epoch [4/100], Loss: 0.0099\n",
      "Epoch [5/100], Loss: 0.0075\n",
      "Epoch [6/100], Loss: 0.0078\n",
      "Epoch [7/100], Loss: 0.0063\n",
      "Epoch [8/100], Loss: 0.0069\n",
      "Epoch [9/100], Loss: 0.0059\n",
      "Epoch [10/100], Loss: 0.0061\n",
      "Epoch [11/100], Loss: 0.0056\n",
      "Epoch [12/100], Loss: 0.0053\n",
      "Epoch [13/100], Loss: 0.0059\n",
      "Epoch [14/100], Loss: 0.0054\n",
      "Epoch [15/100], Loss: 0.0047\n",
      "Epoch [16/100], Loss: 0.0054\n",
      "Epoch [17/100], Loss: 0.0038\n",
      "Epoch [18/100], Loss: 0.0056\n",
      "Epoch [19/100], Loss: 0.0064\n",
      "Epoch [20/100], Loss: 0.0042\n",
      "Epoch [21/100], Loss: 0.0042\n",
      "Epoch [22/100], Loss: 0.0044\n",
      "Epoch [23/100], Loss: 0.0044\n",
      "Epoch [24/100], Loss: 0.0045\n",
      "Epoch [25/100], Loss: 0.0051\n",
      "Epoch [26/100], Loss: 0.0041\n",
      "Epoch [27/100], Loss: 0.0049\n",
      "Epoch [28/100], Loss: 0.0050\n",
      "Epoch [29/100], Loss: 0.0035\n",
      "Epoch [30/100], Loss: 0.0049\n",
      "Epoch [31/100], Loss: 0.0047\n",
      "Epoch [32/100], Loss: 0.0058\n",
      "Epoch [33/100], Loss: 0.0037\n",
      "Epoch [34/100], Loss: 0.0032\n",
      "Epoch [35/100], Loss: 0.0045\n",
      "Epoch [36/100], Loss: 0.0037\n",
      "Epoch [37/100], Loss: 0.0037\n",
      "Epoch [38/100], Loss: 0.0034\n",
      "Epoch [39/100], Loss: 0.0035\n",
      "Epoch [40/100], Loss: 0.0033\n",
      "Epoch [41/100], Loss: 0.0034\n",
      "Epoch [42/100], Loss: 0.0023\n",
      "Epoch [43/100], Loss: 0.0032\n",
      "Epoch [44/100], Loss: 0.0041\n",
      "Epoch [45/100], Loss: 0.0030\n",
      "Epoch [46/100], Loss: 0.0048\n",
      "Epoch [47/100], Loss: 0.0042\n",
      "Epoch [48/100], Loss: 0.0033\n",
      "Epoch [49/100], Loss: 0.0031\n",
      "Epoch [50/100], Loss: 0.0029\n",
      "Epoch [51/100], Loss: 0.0032\n",
      "Epoch [52/100], Loss: 0.0038\n",
      "Epoch [53/100], Loss: 0.0032\n",
      "Epoch [54/100], Loss: 0.0030\n",
      "Epoch [55/100], Loss: 0.0032\n",
      "Epoch [56/100], Loss: 0.0025\n",
      "Epoch [57/100], Loss: 0.0035\n",
      "Epoch [58/100], Loss: 0.0025\n",
      "Epoch [59/100], Loss: 0.0031\n",
      "Epoch [60/100], Loss: 0.0027\n",
      "Epoch [61/100], Loss: 0.0034\n",
      "Epoch [62/100], Loss: 0.0030\n",
      "Epoch [63/100], Loss: 0.0033\n",
      "Epoch [64/100], Loss: 0.0029\n",
      "Epoch [65/100], Loss: 0.0028\n",
      "Epoch [66/100], Loss: 0.0030\n",
      "Epoch [67/100], Loss: 0.0029\n",
      "Epoch [68/100], Loss: 0.0029\n",
      "Epoch [69/100], Loss: 0.0033\n",
      "Epoch [70/100], Loss: 0.0029\n",
      "Epoch [71/100], Loss: 0.0029\n",
      "Epoch [72/100], Loss: 0.0031\n",
      "Epoch [73/100], Loss: 0.0034\n",
      "Epoch [74/100], Loss: 0.0029\n",
      "Epoch [75/100], Loss: 0.0024\n",
      "Epoch [76/100], Loss: 0.0024\n",
      "Epoch [77/100], Loss: 0.0023\n",
      "Epoch [78/100], Loss: 0.0027\n",
      "Epoch [79/100], Loss: 0.0027\n",
      "Epoch [80/100], Loss: 0.0024\n",
      "Epoch [81/100], Loss: 0.0026\n",
      "Epoch [82/100], Loss: 0.0024\n",
      "Epoch [83/100], Loss: 0.0026\n",
      "Epoch [84/100], Loss: 0.0030\n",
      "Epoch [85/100], Loss: 0.0025\n",
      "Epoch [86/100], Loss: 0.0020\n",
      "Epoch [87/100], Loss: 0.0023\n",
      "Epoch [88/100], Loss: 0.0023\n",
      "Epoch [89/100], Loss: 0.0027\n",
      "Epoch [90/100], Loss: 0.0027\n",
      "Epoch [91/100], Loss: 0.0026\n",
      "Epoch [92/100], Loss: 0.0022\n",
      "Epoch [93/100], Loss: 0.0026\n",
      "Epoch [94/100], Loss: 0.0024\n",
      "Epoch [95/100], Loss: 0.0026\n",
      "Epoch [96/100], Loss: 0.0021\n",
      "Epoch [97/100], Loss: 0.0024\n",
      "Epoch [98/100], Loss: 0.0024\n",
      "Epoch [99/100], Loss: 0.0027\n",
      "Epoch [100/100], Loss: 0.0030\n"
     ]
    }
   ],
   "source": [
    "train_loss = []\n",
    "# Training loop\n",
    "for epoch in range(EPOCHS):\n",
    "    for batch_data, _ in eye_dataloader:\n",
    "        optimizer.zero_grad()\n",
    "        reconstructions = autoencoder(batch_data)\n",
    "        loss = criterion(reconstructions, batch_data)\n",
    "        loss.backward()\n",
    "        optimizer.step()\n",
    "    train_loss.append(loss.item())\n",
    "    print(f\"Epoch [{epoch+1}/{EPOCHS}], Loss: {loss.item():.4f}\")"
   ]
  },
  {
   "cell_type": "code",
   "execution_count": 11,
   "metadata": {},
   "outputs": [
    {
     "data": {
      "image/png": "[encoded data removed]",
      "text/plain": [
       "<Figure size 1000x700 with 1 Axes>"
      ]
     },
     "metadata": {},
     "output_type": "display_data"
    }
   ],
   "source": [
    "import matplotlib.pyplot as plt\n",
    "\n",
    "# plot the training loss and accuracy\n",
    "fig = plt.figure(figsize=(10, 7))\n",
    "fig.add_subplot(2,2,(1,4))\n",
    "plt.style.use(\"ggplot\")\n",
    "\n",
    "plt.plot(range(1, EPOCHS+1), train_loss, label=\"train_loss\")\n",
    "# plt.plot(range(1, EPOCHS+1), test_loss, label=\"test_loss\")\n",
    "\n",
    "plt.xlabel(\"Epoch #\")\n",
    "plt.ylabel(\"Loss\")\n",
    "plt.legend(loc=\"lower left\")\n",
    "\n",
    "# fig.add_subplot(2,2,(3,4))\n",
    "# plt.plot(range(1, EPOCHS+1), train_score, label=\"train_acc\")\n",
    "# plt.plot(range(1, EPOCHS+1), test_score, label=\"test_acc\")\n",
    "# plt.xlabel(\"Epoch #\")\n",
    "# plt.ylabel(\"Accuracy\")\n",
    "# plt.legend(loc=\"best\")\n",
    "\n",
    "# plt.savefig(f'result_picture/batch{BATCH_SIZE}_epoch{EPOCHS}_train{train_score[-1]}_test{test_score[-1]}.png')\n",
    "\n",
    "\n",
    "plt.show()"
   ]
  },
  {
   "cell_type": "code",
   "execution_count": null,
   "metadata": {},
   "outputs": [],
   "source": []
  }
 ],
 "metadata": {
  "kernelspec": {
   "display_name": "picture",
   "language": "python",
   "name": "python3"
  },
  "language_info": {
   "codemirror_mode": {
    "name": "ipython",
    "version": 3
   },
   "file_extension": ".py",
   "mimetype": "text/x-python",
   "name": "python",
   "nbconvert_exporter": "python",
   "pygments_lexer": "ipython3",
   "version": "3.11.0"
  },
  "orig_nbformat": 4
 },
 "nbformat": 4,
 "nbformat_minor": 2
}
